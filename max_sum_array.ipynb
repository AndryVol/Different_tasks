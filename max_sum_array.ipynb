{
  "nbformat": 4,
  "nbformat_minor": 0,
  "metadata": {
    "colab": {
      "name": "max_sum_array.ipynb",
      "provenance": [],
      "collapsed_sections": []
    },
    "kernelspec": {
      "name": "python3",
      "display_name": "Python 3"
    }
  },
  "cells": [
    {
      "cell_type": "markdown",
      "metadata": {
        "id": "LnhaFTTYKG_P",
        "colab_type": "text"
      },
      "source": [
        "Функция должна находить непрерывный подмассив в массиве, содержащий хотя бы одно число, который имеет наибольшую сумму.    \n",
        "Идея работы функции: производим последовательное суммирование элементов входного массива **x** и на каждом шаге записываем сумму в массив **y**. Если сумма на каком-то шаге принимает 0 или отрицательное значение, это значит пройденный отрезок массива не будет вносить вклад в сумму последующих значений. Максимальное значений массива **y** будет равно сумме искомого подмассива. Это значит число в массиве **x** с таким же индексом будет соответствовать последнему числу в искомом подмассиве."
      ]
    },
    {
      "cell_type": "code",
      "metadata": {
        "id": "N04Y9Inxpnog",
        "colab_type": "code",
        "colab": {}
      },
      "source": [
        "def array_max_sum(x):\n",
        "  y = []\n",
        "  a = 0\n",
        "  for i in range(len(x)):\n",
        "    a = a + x[i]\n",
        "    if a <= 0:\n",
        "      a = 0\n",
        "    y.append(a)\n",
        "  i_end = y.index(max(y))\n",
        "  y_temp = y[:i_end+1]\n",
        "  if min(y_temp) == 0:\n",
        "    y_temp.reverse()\n",
        "    i_start = y_temp.index(min(y_temp)) - 1\n",
        "    result = x[i_end - i_start:i_end+1]\n",
        "  else:\n",
        "    result = x[:i_end+1]\n",
        "\n",
        "  return result"
      ],
      "execution_count": 1,
      "outputs": []
    },
    {
      "cell_type": "code",
      "metadata": {
        "id": "KiQ9VH771jhH",
        "colab_type": "code",
        "colab": {
          "base_uri": "https://localhost:8080/",
          "height": 33
        },
        "outputId": "b95bb937-5060-41b4-dbca-2a3d55e7ff86"
      },
      "source": [
        "array_max_sum([-2,1,-3,4,-1,2,1,-5,4])"
      ],
      "execution_count": 2,
      "outputs": [
        {
          "output_type": "execute_result",
          "data": {
            "text/plain": [
              "[4, -1, 2, 1]"
            ]
          },
          "metadata": {
            "tags": []
          },
          "execution_count": 2
        }
      ]
    }
  ]
}